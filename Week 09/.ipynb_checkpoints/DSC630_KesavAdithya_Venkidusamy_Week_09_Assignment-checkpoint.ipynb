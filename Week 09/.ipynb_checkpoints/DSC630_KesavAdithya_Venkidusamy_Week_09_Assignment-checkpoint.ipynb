{
 "cells": [
  {
   "cell_type": "markdown",
   "id": "d7bccbba",
   "metadata": {},
   "source": [
    "# Week 9 Assignment - Recommender System\n",
    "\n",
    "Name: Kesav Adithya Venkidusamy<br>\n",
    "Course: DSC630 - Predictive Analytics<br>\n",
    "Instructor: Fadi Alsaleem<br>"
   ]
  },
  {
   "cell_type": "markdown",
   "id": "6dbf121e",
   "metadata": {},
   "source": [
    "Using the small MovieLens data set, create a recommender system that allows users to input a movie they like (in the data set) and recommends ten other movies for them to watch. In your write-up, clearly explain the recommender system process and all steps performed. If you are using a method found online, be sure to reference the source.\n",
    "You can use R or Python to complete this assignment. Submit your code and output to the submission link. Make sure to add comments to all of your code and to document your steps, process, and analysis."
   ]
  },
  {
   "cell_type": "markdown",
   "id": "b9ed8e8b",
   "metadata": {},
   "source": [
    "##### Importing all the libraries required for this exercise"
   ]
  },
  {
   "cell_type": "code",
   "execution_count": 1,
   "id": "c2e1d30b",
   "metadata": {},
   "outputs": [],
   "source": [
    "## Importing libraries required for this assignment\n",
    "import numpy as np\n",
    "import pandas as pd\n",
    "import sklearn\n",
    "import matplotlib.pyplot as plt\n",
    "import seaborn as sns"
   ]
  },
  {
   "cell_type": "code",
   "execution_count": 2,
   "id": "c1c7b932-f063-4ee7-a5a7-9710230073b9",
   "metadata": {},
   "outputs": [],
   "source": [
    "## Ignore the warnings\n",
    "import warnings\n",
    "warnings.simplefilter(action='ignore', category=FutureWarning)"
   ]
  },
  {
   "cell_type": "code",
   "execution_count": 3,
   "id": "e8d1c6c7",
   "metadata": {},
   "outputs": [],
   "source": [
    "## Display all columns in pandas dataframe\n",
    "pd.set_option('display.max_columns', None)\n",
    "pd.set_option('display.max_rows', None)"
   ]
  },
  {
   "cell_type": "markdown",
   "id": "f567f1a8",
   "metadata": {},
   "source": [
    "##### Load the Dataset into dataframe"
   ]
  },
  {
   "cell_type": "code",
   "execution_count": 4,
   "id": "82ae7120",
   "metadata": {},
   "outputs": [
    {
     "data": {
      "text/html": [
       "<div>\n",
       "<style scoped>\n",
       "    .dataframe tbody tr th:only-of-type {\n",
       "        vertical-align: middle;\n",
       "    }\n",
       "\n",
       "    .dataframe tbody tr th {\n",
       "        vertical-align: top;\n",
       "    }\n",
       "\n",
       "    .dataframe thead th {\n",
       "        text-align: right;\n",
       "    }\n",
       "</style>\n",
       "<table border=\"1\" class=\"dataframe\">\n",
       "  <thead>\n",
       "    <tr style=\"text-align: right;\">\n",
       "      <th></th>\n",
       "      <th>userId</th>\n",
       "      <th>movieId</th>\n",
       "      <th>rating</th>\n",
       "      <th>timestamp</th>\n",
       "    </tr>\n",
       "  </thead>\n",
       "  <tbody>\n",
       "    <tr>\n",
       "      <th>0</th>\n",
       "      <td>1</td>\n",
       "      <td>1</td>\n",
       "      <td>4.0</td>\n",
       "      <td>964982703</td>\n",
       "    </tr>\n",
       "    <tr>\n",
       "      <th>1</th>\n",
       "      <td>1</td>\n",
       "      <td>3</td>\n",
       "      <td>4.0</td>\n",
       "      <td>964981247</td>\n",
       "    </tr>\n",
       "    <tr>\n",
       "      <th>2</th>\n",
       "      <td>1</td>\n",
       "      <td>6</td>\n",
       "      <td>4.0</td>\n",
       "      <td>964982224</td>\n",
       "    </tr>\n",
       "    <tr>\n",
       "      <th>3</th>\n",
       "      <td>1</td>\n",
       "      <td>47</td>\n",
       "      <td>5.0</td>\n",
       "      <td>964983815</td>\n",
       "    </tr>\n",
       "    <tr>\n",
       "      <th>4</th>\n",
       "      <td>1</td>\n",
       "      <td>50</td>\n",
       "      <td>5.0</td>\n",
       "      <td>964982931</td>\n",
       "    </tr>\n",
       "  </tbody>\n",
       "</table>\n",
       "</div>"
      ],
      "text/plain": [
       "   userId  movieId  rating  timestamp\n",
       "0       1        1     4.0  964982703\n",
       "1       1        3     4.0  964981247\n",
       "2       1        6     4.0  964982224\n",
       "3       1       47     5.0  964983815\n",
       "4       1       50     5.0  964982931"
      ]
     },
     "execution_count": 4,
     "metadata": {},
     "output_type": "execute_result"
    }
   ],
   "source": [
    "## Load the ratings data into a dataframe\n",
    "ratings_df = pd.read_csv(\"ratings.csv\")\n",
    "ratings_df.head()"
   ]
  },
  {
   "cell_type": "code",
   "execution_count": 5,
   "id": "78e375f1",
   "metadata": {},
   "outputs": [
    {
     "data": {
      "text/html": [
       "<div>\n",
       "<style scoped>\n",
       "    .dataframe tbody tr th:only-of-type {\n",
       "        vertical-align: middle;\n",
       "    }\n",
       "\n",
       "    .dataframe tbody tr th {\n",
       "        vertical-align: top;\n",
       "    }\n",
       "\n",
       "    .dataframe thead th {\n",
       "        text-align: right;\n",
       "    }\n",
       "</style>\n",
       "<table border=\"1\" class=\"dataframe\">\n",
       "  <thead>\n",
       "    <tr style=\"text-align: right;\">\n",
       "      <th></th>\n",
       "      <th>movieId</th>\n",
       "      <th>title</th>\n",
       "      <th>genres</th>\n",
       "    </tr>\n",
       "  </thead>\n",
       "  <tbody>\n",
       "    <tr>\n",
       "      <th>0</th>\n",
       "      <td>1</td>\n",
       "      <td>Toy Story (1995)</td>\n",
       "      <td>Adventure|Animation|Children|Comedy|Fantasy</td>\n",
       "    </tr>\n",
       "    <tr>\n",
       "      <th>1</th>\n",
       "      <td>2</td>\n",
       "      <td>Jumanji (1995)</td>\n",
       "      <td>Adventure|Children|Fantasy</td>\n",
       "    </tr>\n",
       "    <tr>\n",
       "      <th>2</th>\n",
       "      <td>3</td>\n",
       "      <td>Grumpier Old Men (1995)</td>\n",
       "      <td>Comedy|Romance</td>\n",
       "    </tr>\n",
       "    <tr>\n",
       "      <th>3</th>\n",
       "      <td>4</td>\n",
       "      <td>Waiting to Exhale (1995)</td>\n",
       "      <td>Comedy|Drama|Romance</td>\n",
       "    </tr>\n",
       "    <tr>\n",
       "      <th>4</th>\n",
       "      <td>5</td>\n",
       "      <td>Father of the Bride Part II (1995)</td>\n",
       "      <td>Comedy</td>\n",
       "    </tr>\n",
       "  </tbody>\n",
       "</table>\n",
       "</div>"
      ],
      "text/plain": [
       "   movieId                               title  \\\n",
       "0        1                    Toy Story (1995)   \n",
       "1        2                      Jumanji (1995)   \n",
       "2        3             Grumpier Old Men (1995)   \n",
       "3        4            Waiting to Exhale (1995)   \n",
       "4        5  Father of the Bride Part II (1995)   \n",
       "\n",
       "                                        genres  \n",
       "0  Adventure|Animation|Children|Comedy|Fantasy  \n",
       "1                   Adventure|Children|Fantasy  \n",
       "2                               Comedy|Romance  \n",
       "3                         Comedy|Drama|Romance  \n",
       "4                                       Comedy  "
      ]
     },
     "execution_count": 5,
     "metadata": {},
     "output_type": "execute_result"
    }
   ],
   "source": [
    "## Load the movies data into a dataframe\n",
    "movies_df = pd.read_csv(\"movies.csv\")\n",
    "movies_df.head()"
   ]
  },
  {
   "cell_type": "code",
   "execution_count": 6,
   "id": "3a3cd309",
   "metadata": {},
   "outputs": [],
   "source": [
    "##Calculating the total number of records present in ratings_df\n",
    "## Total number of unique movies from ratings_df\n",
    "## Total number of unique users from ratings_df\n",
    "n_ratings = len(ratings_df)\n",
    "n_movies = len(ratings_df['movieId'].unique())\n",
    "n_users = len(ratings_df['userId'].unique())"
   ]
  },
  {
   "cell_type": "code",
   "execution_count": 7,
   "id": "250a6475",
   "metadata": {},
   "outputs": [
    {
     "name": "stdout",
     "output_type": "stream",
     "text": [
      "Number of ratings: 100836\n",
      "Number of unique movieId's: 9724\n",
      "Number of unique users: 610\n",
      "Average ratings per user: 165.3\n",
      "Average ratings per movie: 10.37\n"
     ]
    }
   ],
   "source": [
    "## Printing the number of ratings. unique movieid, unique users and average user and movies\n",
    "print(f\"Number of ratings: {n_ratings}\")\n",
    "print(f\"Number of unique movieId's: {n_movies}\")\n",
    "print(f\"Number of unique users: {n_users}\")\n",
    "print(f\"Average ratings per user: {round(n_ratings/n_users, 2)}\")\n",
    "print(f\"Average ratings per movie: {round(n_ratings/n_movies, 2)}\")"
   ]
  },
  {
   "cell_type": "code",
   "execution_count": 8,
   "id": "5a8348d3-ac7d-42a2-acb9-52050eee3a8d",
   "metadata": {},
   "outputs": [
    {
     "data": {
      "text/html": [
       "<div>\n",
       "<style scoped>\n",
       "    .dataframe tbody tr th:only-of-type {\n",
       "        vertical-align: middle;\n",
       "    }\n",
       "\n",
       "    .dataframe tbody tr th {\n",
       "        vertical-align: top;\n",
       "    }\n",
       "\n",
       "    .dataframe thead th {\n",
       "        text-align: right;\n",
       "    }\n",
       "</style>\n",
       "<table border=\"1\" class=\"dataframe\">\n",
       "  <thead>\n",
       "    <tr style=\"text-align: right;\">\n",
       "      <th></th>\n",
       "      <th>userId</th>\n",
       "      <th>n_ratings</th>\n",
       "    </tr>\n",
       "  </thead>\n",
       "  <tbody>\n",
       "    <tr>\n",
       "      <th>0</th>\n",
       "      <td>1</td>\n",
       "      <td>232</td>\n",
       "    </tr>\n",
       "    <tr>\n",
       "      <th>1</th>\n",
       "      <td>2</td>\n",
       "      <td>29</td>\n",
       "    </tr>\n",
       "    <tr>\n",
       "      <th>2</th>\n",
       "      <td>3</td>\n",
       "      <td>39</td>\n",
       "    </tr>\n",
       "    <tr>\n",
       "      <th>3</th>\n",
       "      <td>4</td>\n",
       "      <td>216</td>\n",
       "    </tr>\n",
       "    <tr>\n",
       "      <th>4</th>\n",
       "      <td>5</td>\n",
       "      <td>44</td>\n",
       "    </tr>\n",
       "  </tbody>\n",
       "</table>\n",
       "</div>"
      ],
      "text/plain": [
       "   userId  n_ratings\n",
       "0       1        232\n",
       "1       2         29\n",
       "2       3         39\n",
       "3       4        216\n",
       "4       5         44"
      ]
     },
     "execution_count": 8,
     "metadata": {},
     "output_type": "execute_result"
    }
   ],
   "source": [
    "## Calculate the count of movies watched by user frequency\n",
    "user_freq = ratings_df[['userId', 'movieId']].groupby('userId').count().reset_index()\n",
    "user_freq.columns = ['userId', 'n_ratings']\n",
    "user_freq.head()"
   ]
  },
  {
   "cell_type": "code",
   "execution_count": 9,
   "id": "89404699",
   "metadata": {},
   "outputs": [
    {
     "data": {
      "text/html": [
       "<div>\n",
       "<style scoped>\n",
       "    .dataframe tbody tr th:only-of-type {\n",
       "        vertical-align: middle;\n",
       "    }\n",
       "\n",
       "    .dataframe tbody tr th {\n",
       "        vertical-align: top;\n",
       "    }\n",
       "\n",
       "    .dataframe thead th {\n",
       "        text-align: right;\n",
       "    }\n",
       "</style>\n",
       "<table border=\"1\" class=\"dataframe\">\n",
       "  <thead>\n",
       "    <tr style=\"text-align: right;\">\n",
       "      <th></th>\n",
       "      <th>movieId</th>\n",
       "      <th>title</th>\n",
       "      <th>genres</th>\n",
       "    </tr>\n",
       "  </thead>\n",
       "  <tbody>\n",
       "    <tr>\n",
       "      <th>2689</th>\n",
       "      <td>3604</td>\n",
       "      <td>Gypsy (1962)</td>\n",
       "      <td>Musical</td>\n",
       "    </tr>\n",
       "  </tbody>\n",
       "</table>\n",
       "</div>"
      ],
      "text/plain": [
       "      movieId         title   genres\n",
       "2689     3604  Gypsy (1962)  Musical"
      ]
     },
     "execution_count": 9,
     "metadata": {},
     "output_type": "execute_result"
    }
   ],
   "source": [
    "# Find Lowest and Highest rated movies:\n",
    "mean_rating = ratings_df.groupby('movieId')[['rating']].mean()\n",
    "# Lowest rated movies\n",
    "lowest_rated = mean_rating['rating'].idxmin()\n",
    "movies_df.loc[movies_df['movieId'] == lowest_rated]"
   ]
  },
  {
   "cell_type": "code",
   "execution_count": 11,
   "id": "a4216f32-0b2c-4d1f-96ce-ef287bb77c9c",
   "metadata": {},
   "outputs": [
    {
     "data": {
      "text/html": [
       "<div>\n",
       "<style scoped>\n",
       "    .dataframe tbody tr th:only-of-type {\n",
       "        vertical-align: middle;\n",
       "    }\n",
       "\n",
       "    .dataframe tbody tr th {\n",
       "        vertical-align: top;\n",
       "    }\n",
       "\n",
       "    .dataframe thead th {\n",
       "        text-align: right;\n",
       "    }\n",
       "</style>\n",
       "<table border=\"1\" class=\"dataframe\">\n",
       "  <thead>\n",
       "    <tr style=\"text-align: right;\">\n",
       "      <th></th>\n",
       "      <th>movieId</th>\n",
       "      <th>title</th>\n",
       "      <th>genres</th>\n",
       "    </tr>\n",
       "  </thead>\n",
       "  <tbody>\n",
       "    <tr>\n",
       "      <th>48</th>\n",
       "      <td>53</td>\n",
       "      <td>Lamerica (1994)</td>\n",
       "      <td>Adventure|Drama</td>\n",
       "    </tr>\n",
       "  </tbody>\n",
       "</table>\n",
       "</div>"
      ],
      "text/plain": [
       "    movieId            title           genres\n",
       "48       53  Lamerica (1994)  Adventure|Drama"
      ]
     },
     "execution_count": 11,
     "metadata": {},
     "output_type": "execute_result"
    }
   ],
   "source": [
    "# Highest rated movies\n",
    "highest_rated = mean_rating['rating'].idxmax()\n",
    "movies_df.loc[movies_df['movieId'] == highest_rated]"
   ]
  },
  {
   "cell_type": "code",
   "execution_count": 12,
   "id": "1a83052c-9c95-423a-b340-505db3778b6f",
   "metadata": {},
   "outputs": [
    {
     "data": {
      "text/html": [
       "<div>\n",
       "<style scoped>\n",
       "    .dataframe tbody tr th:only-of-type {\n",
       "        vertical-align: middle;\n",
       "    }\n",
       "\n",
       "    .dataframe tbody tr th {\n",
       "        vertical-align: top;\n",
       "    }\n",
       "\n",
       "    .dataframe thead th {\n",
       "        text-align: right;\n",
       "    }\n",
       "</style>\n",
       "<table border=\"1\" class=\"dataframe\">\n",
       "  <thead>\n",
       "    <tr style=\"text-align: right;\">\n",
       "      <th></th>\n",
       "      <th>userId</th>\n",
       "      <th>movieId</th>\n",
       "      <th>rating</th>\n",
       "      <th>timestamp</th>\n",
       "    </tr>\n",
       "  </thead>\n",
       "  <tbody>\n",
       "    <tr>\n",
       "      <th>13633</th>\n",
       "      <td>89</td>\n",
       "      <td>3604</td>\n",
       "      <td>0.5</td>\n",
       "      <td>1520408880</td>\n",
       "    </tr>\n",
       "  </tbody>\n",
       "</table>\n",
       "</div>"
      ],
      "text/plain": [
       "       userId  movieId  rating   timestamp\n",
       "13633      89     3604     0.5  1520408880"
      ]
     },
     "execution_count": 12,
     "metadata": {},
     "output_type": "execute_result"
    }
   ],
   "source": [
    "# show number of people who rated movies rated movie highest\n",
    "ratings_df[ratings_df['movieId']==highest_rated]\n",
    "# show number of people who rated movies rated movie lowest\n",
    "ratings_df[ratings_df['movieId']==lowest_rated]"
   ]
  },
  {
   "cell_type": "code",
   "execution_count": 13,
   "id": "94549195-6261-456c-a176-cf32d3e3e679",
   "metadata": {},
   "outputs": [],
   "source": [
    "## the above movies has very low dataset. We will use bayesian average\n",
    "movie_stats = ratings_df.groupby('movieId')[['rating']].agg(['count', 'mean'])\n",
    "movie_stats.columns = movie_stats.columns.droplevel()"
   ]
  },
  {
   "cell_type": "code",
   "execution_count": 14,
   "id": "45b4c0f6-daf6-4db0-8fde-840f2ab65061",
   "metadata": {},
   "outputs": [],
   "source": [
    "# Importing Library to create user-item matrix using scipy csr matrix\n",
    "from scipy.sparse import csr_matrix"
   ]
  },
  {
   "cell_type": "code",
   "execution_count": 15,
   "id": "027cd38a-4e62-47c8-b37a-4addfb3be238",
   "metadata": {},
   "outputs": [],
   "source": [
    "## Function to create user item matrix\n",
    "def create_matrix(df):\n",
    "      \n",
    "    N = len(df['userId'].unique())\n",
    "    M = len(df['movieId'].unique())\n",
    "      \n",
    "    # Map Ids to indices\n",
    "    user_mapper = dict(zip(np.unique(df[\"userId\"]), list(range(N))))\n",
    "    movie_mapper = dict(zip(np.unique(df[\"movieId\"]), list(range(M))))\n",
    "      \n",
    "    # Map indices to IDs\n",
    "    user_inv_mapper = dict(zip(list(range(N)), np.unique(df[\"userId\"])))\n",
    "    movie_inv_mapper = dict(zip(list(range(M)), np.unique(df[\"movieId\"])))\n",
    "      \n",
    "    user_index = [user_mapper[i] for i in df['userId']]\n",
    "    movie_index = [movie_mapper[i] for i in df['movieId']]\n",
    "  \n",
    "    X = csr_matrix((df[\"rating\"], (movie_index, user_index)), shape=(M, N))\n",
    "      \n",
    "    return X, user_mapper, movie_mapper, user_inv_mapper, movie_inv_mapper"
   ]
  },
  {
   "cell_type": "code",
   "execution_count": 16,
   "id": "57067ea7-3034-4575-8ee4-a0f7c26c282e",
   "metadata": {},
   "outputs": [],
   "source": [
    "## Calling the create matrix function and assign to the variables\n",
    "X, user_mapper, movie_mapper, user_inv_mapper, movie_inv_mapper = create_matrix(ratings_df)"
   ]
  },
  {
   "cell_type": "code",
   "execution_count": 20,
   "id": "8729ed6f-a9fb-45ae-a948-7868eafe9043",
   "metadata": {},
   "outputs": [],
   "source": [
    "## Importing the library to calculate the similar movies using KNN\n",
    "from sklearn.neighbors import NearestNeighbors"
   ]
  },
  {
   "cell_type": "code",
   "execution_count": 28,
   "id": "413f1205-336a-4e1b-972b-3de67ebedf4a",
   "metadata": {},
   "outputs": [],
   "source": [
    "## Function to find the similar movies using KNN \n",
    "def find_similar_movies(movie_id, X, k, metric='cosine', show_distance=False):\n",
    "      \n",
    "    neighbour_ids = []\n",
    "      \n",
    "    movie_ind = movie_mapper[movie_id]\n",
    "    movie_vec = X[movie_ind]\n",
    "    k+=1\n",
    "    kNN = NearestNeighbors(n_neighbors=k, algorithm=\"brute\", metric=metric)\n",
    "    kNN.fit(X)\n",
    "    movie_vec = movie_vec.reshape(1,-1)\n",
    "    neighbour = kNN.kneighbors(movie_vec, return_distance=show_distance)\n",
    "    for i in range(0,k):\n",
    "        n = neighbour.item(i)\n",
    "        neighbour_ids.append(movie_inv_mapper[n])\n",
    "    neighbour_ids.pop(0)\n",
    "    return neighbour_ids"
   ]
  },
  {
   "cell_type": "code",
   "execution_count": 23,
   "id": "01517e05-7b54-4b2a-b5c2-bfacd4ff24d7",
   "metadata": {},
   "outputs": [],
   "source": [
    "## Creating dictionary with movie id as key and title as value\n",
    "movie_titles = dict(zip(movies_df['movieId'], movies_df['title']))"
   ]
  },
  {
   "cell_type": "code",
   "execution_count": null,
   "id": "dce692c3-4c32-45a5-a8b0-db3a91c41ab1",
   "metadata": {},
   "outputs": [],
   "source": [
    "## Get imput from user for movie id\n",
    "min_movie_id = min(movie_mapper.keys())\n",
    "max_movie_id = max(movie_mapper.keys())\n",
    "print(\"The minimum and maximum movie id {} and {}\".format(min_movie_id, max_movie_id))"
   ]
  },
  {
   "cell_type": "code",
   "execution_count": 49,
   "id": "3d1d6e36-71df-466e-a68e-72dde05264ee",
   "metadata": {},
   "outputs": [
    {
     "name": "stdout",
     "output_type": "stream",
     "text": [
      "Please enter the movie id between 1 and  193609: \n"
     ]
    },
    {
     "name": "stdin",
     "output_type": "stream",
     "text": [
      " 1\n"
     ]
    }
   ],
   "source": [
    "## Get the input movie id from the user\n",
    "print(\"Please enter the movie id between {} and  {}: \".format(min_movie_id, max_movie_id))\n",
    "movie_id = int(input())"
   ]
  },
  {
   "cell_type": "code",
   "execution_count": 50,
   "id": "0a6cb319-c123-48be-976a-25079ad807e7",
   "metadata": {},
   "outputs": [
    {
     "name": "stdout",
     "output_type": "stream",
     "text": [
      "The movie id 1 is present in the mapper list\n"
     ]
    }
   ],
   "source": [
    "## Validating the movie_id entered by the user\n",
    "if int(movie_id) in movie_mapper.keys():\n",
    "    print(\"The movie id {} is present in the mapper list\".format(movie_id))\n",
    "else:\n",
    "    print(\"The movie id {} is not present in the mapper list\".format(movie_id))"
   ]
  },
  {
   "cell_type": "code",
   "execution_count": 55,
   "id": "dc308717-13ad-4755-8353-a736fc8d8df8",
   "metadata": {},
   "outputs": [
    {
     "name": "stdout",
     "output_type": "stream",
     "text": [
      "Since you watched Toy Story (1995), below are some other recommendations similar to this movie\n",
      "Toy Story 2 (1999)\n",
      "Jurassic Park (1993)\n",
      "Independence Day (a.k.a. ID4) (1996)\n",
      "Star Wars: Episode IV - A New Hope (1977)\n",
      "Forrest Gump (1994)\n",
      "Lion King, The (1994)\n",
      "Star Wars: Episode VI - Return of the Jedi (1983)\n",
      "Mission: Impossible (1996)\n",
      "Groundhog Day (1993)\n",
      "Back to the Future (1985)\n"
     ]
    }
   ],
   "source": [
    "## Calculating and printing the similar movies\n",
    "similar_ids = find_similar_movies(movie_id, X, k=10)\n",
    "movie_title = movie_titles[movie_id]\n",
    "  \n",
    "print(f\"Since you watched {movie_title}, below are some other recommendations similar to this movie\")\n",
    "for i in similar_ids:\n",
    "    print(movie_titles[i])"
   ]
  },
  {
   "cell_type": "markdown",
   "id": "0856c845-178a-4ed1-a9a4-29350e89ae8a",
   "metadata": {},
   "source": [
    "#### Reference\n",
    "https://www.geeksforgeeks.org/recommendation-system-in-python/"
   ]
  },
  {
   "cell_type": "code",
   "execution_count": null,
   "id": "c413d5b4-1f2b-430f-80e7-298ab8afef9d",
   "metadata": {},
   "outputs": [],
   "source": []
  }
 ],
 "metadata": {
  "kernelspec": {
   "display_name": "Python 3",
   "language": "python",
   "name": "python3"
  },
  "language_info": {
   "codemirror_mode": {
    "name": "ipython",
    "version": 3
   },
   "file_extension": ".py",
   "mimetype": "text/x-python",
   "name": "python",
   "nbconvert_exporter": "python",
   "pygments_lexer": "ipython3",
   "version": "3.8.8"
  }
 },
 "nbformat": 4,
 "nbformat_minor": 5
}
