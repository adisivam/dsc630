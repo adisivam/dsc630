{
 "cells": [
  {
   "cell_type": "markdown",
   "id": "d7bccbba",
   "metadata": {},
   "source": [
    "# Week 9 Assignment - Recommender System\n",
    "\n",
    "Name: Kesav Adithya Venkidusamy<br>\n",
    "Course: DSC630 - Predictive Analytics<br>\n",
    "Instructor: Fadi Alsaleem<br>"
   ]
  },
  {
   "cell_type": "markdown",
   "id": "6dbf121e",
   "metadata": {},
   "source": [
    "Using the small MovieLens data set, create a recommender system that allows users to input a movie they like (in the data set) and recommends ten other movies for them to watch. In your write-up, clearly explain the recommender system process and all steps performed. If you are using a method found online, be sure to reference the source.\n",
    "You can use R or Python to complete this assignment. Submit your code and output to the submission link. Make sure to add comments to all of your code and to document your steps, process, and analysis."
   ]
  },
  {
   "cell_type": "markdown",
   "id": "2b8216c7-f878-45f6-8cfa-27c2a08f6aba",
   "metadata": {},
   "source": [
    "### Recommender System"
   ]
  },
  {
   "cell_type": "markdown",
   "id": "f83b3952-16b9-47c2-90b8-93218a4d9391",
   "metadata": {},
   "source": [
    "Recommendation engines are a subclass of machine learning which generally deal with ranking or rating products / users. Loosely defined, a recommender system is a system which predicts ratings a user might give to a specific item. These predictions will then be ranked and returned back to the user.\n",
    "\n",
    "Recommender systems are often seen as a “black box”, the model created by the large companies are not very easily interpretable. The results which are generated are often recommendations for the user for things that they need / want but are unaware that they need / want it until they’ve been recommended to them."
   ]
  },
  {
   "cell_type": "markdown",
   "id": "df5a57b3-f596-4427-b038-e52e15db7a2f",
   "metadata": {},
   "source": [
    "#### Types of Recommender System"
   ]
  },
  {
   "cell_type": "markdown",
   "id": "0af28ad8-c18d-4cd5-9a12-ac4ca0d7bc8d",
   "metadata": {},
   "source": [
    "Recommender System is different types:\n",
    "\n",
    "<b>Collaborative Filtering</b>: Collaborative Filtering recommends items based on similarity measures between users and/or items. The basic assumption behind the algorithm is that users with similar interests have common preferences.\n",
    "\n",
    "<b>Content-Based Recommendation</b>: It is supervised machine learning used to induce a classifier to discriminate between interesting and uninteresting items for the user."
   ]
  },
  {
   "cell_type": "markdown",
   "id": "8a8f0fa0-84cf-471a-9d5a-16dd75b50308",
   "metadata": {},
   "source": [
    "<b><i>In this exercise, we are going to use Collaborative Filtering to recommend the movies similar to what user has watched. Basically, user will provide the movie that he has watched and system will suggest the list of movies to watch.</i></b>"
   ]
  },
  {
   "cell_type": "markdown",
   "id": "b9ed8e8b",
   "metadata": {},
   "source": [
    "#### Step 1: Importing all the libraries required for data processing"
   ]
  },
  {
   "cell_type": "code",
   "execution_count": 2,
   "id": "c2e1d30b",
   "metadata": {},
   "outputs": [],
   "source": [
    "## Importing libraries required for this assignment\n",
    "import numpy as np\n",
    "import pandas as pd\n",
    "import sklearn\n",
    "import matplotlib.pyplot as plt\n",
    "import seaborn as sns"
   ]
  },
  {
   "cell_type": "code",
   "execution_count": 3,
   "id": "c1c7b932-f063-4ee7-a5a7-9710230073b9",
   "metadata": {},
   "outputs": [],
   "source": [
    "## Ignore the warnings\n",
    "import warnings\n",
    "warnings.simplefilter(action='ignore', category=FutureWarning)"
   ]
  },
  {
   "cell_type": "code",
   "execution_count": 4,
   "id": "e8d1c6c7",
   "metadata": {},
   "outputs": [],
   "source": [
    "## Display all columns in pandas dataframe\n",
    "pd.set_option('display.max_columns', None)\n",
    "pd.set_option('display.max_rows', None)"
   ]
  },
  {
   "cell_type": "markdown",
   "id": "f567f1a8",
   "metadata": {},
   "source": [
    "#### Step 2: As as Load the Dataset into dataframe"
   ]
  },
  {
   "cell_type": "markdown",
   "id": "1adcd283-c8bd-449c-adf9-897ce1f3a36b",
   "metadata": {},
   "source": [
    "As an initial step, we will create 2 dataframes; ratings_df -> one of the ratings given to the movies by users and movies_df -> list of the movies and genres."
   ]
  },
  {
   "cell_type": "code",
   "execution_count": 5,
   "id": "82ae7120",
   "metadata": {},
   "outputs": [
    {
     "data": {
      "text/html": [
       "<div>\n",
       "<style scoped>\n",
       "    .dataframe tbody tr th:only-of-type {\n",
       "        vertical-align: middle;\n",
       "    }\n",
       "\n",
       "    .dataframe tbody tr th {\n",
       "        vertical-align: top;\n",
       "    }\n",
       "\n",
       "    .dataframe thead th {\n",
       "        text-align: right;\n",
       "    }\n",
       "</style>\n",
       "<table border=\"1\" class=\"dataframe\">\n",
       "  <thead>\n",
       "    <tr style=\"text-align: right;\">\n",
       "      <th></th>\n",
       "      <th>userId</th>\n",
       "      <th>movieId</th>\n",
       "      <th>rating</th>\n",
       "      <th>timestamp</th>\n",
       "    </tr>\n",
       "  </thead>\n",
       "  <tbody>\n",
       "    <tr>\n",
       "      <th>0</th>\n",
       "      <td>1</td>\n",
       "      <td>1</td>\n",
       "      <td>4.0</td>\n",
       "      <td>964982703</td>\n",
       "    </tr>\n",
       "    <tr>\n",
       "      <th>1</th>\n",
       "      <td>1</td>\n",
       "      <td>3</td>\n",
       "      <td>4.0</td>\n",
       "      <td>964981247</td>\n",
       "    </tr>\n",
       "    <tr>\n",
       "      <th>2</th>\n",
       "      <td>1</td>\n",
       "      <td>6</td>\n",
       "      <td>4.0</td>\n",
       "      <td>964982224</td>\n",
       "    </tr>\n",
       "    <tr>\n",
       "      <th>3</th>\n",
       "      <td>1</td>\n",
       "      <td>47</td>\n",
       "      <td>5.0</td>\n",
       "      <td>964983815</td>\n",
       "    </tr>\n",
       "    <tr>\n",
       "      <th>4</th>\n",
       "      <td>1</td>\n",
       "      <td>50</td>\n",
       "      <td>5.0</td>\n",
       "      <td>964982931</td>\n",
       "    </tr>\n",
       "  </tbody>\n",
       "</table>\n",
       "</div>"
      ],
      "text/plain": [
       "   userId  movieId  rating  timestamp\n",
       "0       1        1     4.0  964982703\n",
       "1       1        3     4.0  964981247\n",
       "2       1        6     4.0  964982224\n",
       "3       1       47     5.0  964983815\n",
       "4       1       50     5.0  964982931"
      ]
     },
     "execution_count": 5,
     "metadata": {},
     "output_type": "execute_result"
    }
   ],
   "source": [
    "## Load the ratings data into a dataframe\n",
    "ratings_df = pd.read_csv(\"ratings.csv\")\n",
    "ratings_df.head()"
   ]
  },
  {
   "cell_type": "code",
   "execution_count": 6,
   "id": "78e375f1",
   "metadata": {},
   "outputs": [
    {
     "data": {
      "text/html": [
       "<div>\n",
       "<style scoped>\n",
       "    .dataframe tbody tr th:only-of-type {\n",
       "        vertical-align: middle;\n",
       "    }\n",
       "\n",
       "    .dataframe tbody tr th {\n",
       "        vertical-align: top;\n",
       "    }\n",
       "\n",
       "    .dataframe thead th {\n",
       "        text-align: right;\n",
       "    }\n",
       "</style>\n",
       "<table border=\"1\" class=\"dataframe\">\n",
       "  <thead>\n",
       "    <tr style=\"text-align: right;\">\n",
       "      <th></th>\n",
       "      <th>movieId</th>\n",
       "      <th>title</th>\n",
       "      <th>genres</th>\n",
       "    </tr>\n",
       "  </thead>\n",
       "  <tbody>\n",
       "    <tr>\n",
       "      <th>0</th>\n",
       "      <td>1</td>\n",
       "      <td>Toy Story (1995)</td>\n",
       "      <td>Adventure|Animation|Children|Comedy|Fantasy</td>\n",
       "    </tr>\n",
       "    <tr>\n",
       "      <th>1</th>\n",
       "      <td>2</td>\n",
       "      <td>Jumanji (1995)</td>\n",
       "      <td>Adventure|Children|Fantasy</td>\n",
       "    </tr>\n",
       "    <tr>\n",
       "      <th>2</th>\n",
       "      <td>3</td>\n",
       "      <td>Grumpier Old Men (1995)</td>\n",
       "      <td>Comedy|Romance</td>\n",
       "    </tr>\n",
       "    <tr>\n",
       "      <th>3</th>\n",
       "      <td>4</td>\n",
       "      <td>Waiting to Exhale (1995)</td>\n",
       "      <td>Comedy|Drama|Romance</td>\n",
       "    </tr>\n",
       "    <tr>\n",
       "      <th>4</th>\n",
       "      <td>5</td>\n",
       "      <td>Father of the Bride Part II (1995)</td>\n",
       "      <td>Comedy</td>\n",
       "    </tr>\n",
       "  </tbody>\n",
       "</table>\n",
       "</div>"
      ],
      "text/plain": [
       "   movieId                               title  \\\n",
       "0        1                    Toy Story (1995)   \n",
       "1        2                      Jumanji (1995)   \n",
       "2        3             Grumpier Old Men (1995)   \n",
       "3        4            Waiting to Exhale (1995)   \n",
       "4        5  Father of the Bride Part II (1995)   \n",
       "\n",
       "                                        genres  \n",
       "0  Adventure|Animation|Children|Comedy|Fantasy  \n",
       "1                   Adventure|Children|Fantasy  \n",
       "2                               Comedy|Romance  \n",
       "3                         Comedy|Drama|Romance  \n",
       "4                                       Comedy  "
      ]
     },
     "execution_count": 6,
     "metadata": {},
     "output_type": "execute_result"
    }
   ],
   "source": [
    "## Load the movies data into a dataframe\n",
    "movies_df = pd.read_csv(\"movies.csv\")\n",
    "movies_df.head()"
   ]
  },
  {
   "cell_type": "markdown",
   "id": "1b6a236d-015f-4e9a-924d-e62ba3d42c5e",
   "metadata": {},
   "source": [
    "#### Step 3: Calculating the stats on the datasets"
   ]
  },
  {
   "cell_type": "code",
   "execution_count": 7,
   "id": "3a3cd309",
   "metadata": {},
   "outputs": [],
   "source": [
    "##Calculating the total number of records present in ratings_df\n",
    "## Total number of unique movies from ratings_df\n",
    "## Total number of unique users from ratings_df\n",
    "n_ratings = len(ratings_df)\n",
    "n_movies = len(ratings_df['movieId'].unique())\n",
    "n_users = len(ratings_df['userId'].unique())"
   ]
  },
  {
   "cell_type": "code",
   "execution_count": 8,
   "id": "250a6475",
   "metadata": {},
   "outputs": [
    {
     "name": "stdout",
     "output_type": "stream",
     "text": [
      "Number of ratings: 100836\n",
      "Number of unique movieId's: 9724\n",
      "Number of unique users: 610\n",
      "Average ratings per user: 165.3\n",
      "Average ratings per movie: 10.37\n"
     ]
    }
   ],
   "source": [
    "## Printing the number of ratings. unique movieid, unique users and average user and movies\n",
    "print(f\"Number of ratings: {n_ratings}\")\n",
    "print(f\"Number of unique movieId's: {n_movies}\")\n",
    "print(f\"Number of unique users: {n_users}\")\n",
    "print(f\"Average ratings per user: {round(n_ratings/n_users, 2)}\")\n",
    "print(f\"Average ratings per movie: {round(n_ratings/n_movies, 2)}\")"
   ]
  },
  {
   "cell_type": "markdown",
   "id": "83211071-18a5-40a0-9608-fa68def61241",
   "metadata": {},
   "source": [
    "In the above step, we calculating the total number of ratings given to the movies, number of unique movies present in the dataset, number of unique users present in the rating dataframe and average ratings per user and movies. \n",
    "\n",
    "On an average, a user has provided 165.3 ratings for the movies and each movie has recieved 10.37 ratings from the users "
   ]
  },
  {
   "cell_type": "code",
   "execution_count": 9,
   "id": "5a8348d3-ac7d-42a2-acb9-52050eee3a8d",
   "metadata": {},
   "outputs": [
    {
     "data": {
      "text/html": [
       "<div>\n",
       "<style scoped>\n",
       "    .dataframe tbody tr th:only-of-type {\n",
       "        vertical-align: middle;\n",
       "    }\n",
       "\n",
       "    .dataframe tbody tr th {\n",
       "        vertical-align: top;\n",
       "    }\n",
       "\n",
       "    .dataframe thead th {\n",
       "        text-align: right;\n",
       "    }\n",
       "</style>\n",
       "<table border=\"1\" class=\"dataframe\">\n",
       "  <thead>\n",
       "    <tr style=\"text-align: right;\">\n",
       "      <th></th>\n",
       "      <th>userId</th>\n",
       "      <th>n_ratings</th>\n",
       "    </tr>\n",
       "  </thead>\n",
       "  <tbody>\n",
       "    <tr>\n",
       "      <th>0</th>\n",
       "      <td>1</td>\n",
       "      <td>232</td>\n",
       "    </tr>\n",
       "    <tr>\n",
       "      <th>1</th>\n",
       "      <td>2</td>\n",
       "      <td>29</td>\n",
       "    </tr>\n",
       "    <tr>\n",
       "      <th>2</th>\n",
       "      <td>3</td>\n",
       "      <td>39</td>\n",
       "    </tr>\n",
       "    <tr>\n",
       "      <th>3</th>\n",
       "      <td>4</td>\n",
       "      <td>216</td>\n",
       "    </tr>\n",
       "    <tr>\n",
       "      <th>4</th>\n",
       "      <td>5</td>\n",
       "      <td>44</td>\n",
       "    </tr>\n",
       "  </tbody>\n",
       "</table>\n",
       "</div>"
      ],
      "text/plain": [
       "   userId  n_ratings\n",
       "0       1        232\n",
       "1       2         29\n",
       "2       3         39\n",
       "3       4        216\n",
       "4       5         44"
      ]
     },
     "execution_count": 9,
     "metadata": {},
     "output_type": "execute_result"
    }
   ],
   "source": [
    "## Calculate the count of movies watched by user frequency\n",
    "user_freq = ratings_df[['userId', 'movieId']].groupby('userId').count().reset_index()\n",
    "user_freq.columns = ['userId', 'n_ratings']\n",
    "user_freq.head()"
   ]
  },
  {
   "cell_type": "code",
   "execution_count": 10,
   "id": "89404699",
   "metadata": {},
   "outputs": [
    {
     "data": {
      "text/html": [
       "<div>\n",
       "<style scoped>\n",
       "    .dataframe tbody tr th:only-of-type {\n",
       "        vertical-align: middle;\n",
       "    }\n",
       "\n",
       "    .dataframe tbody tr th {\n",
       "        vertical-align: top;\n",
       "    }\n",
       "\n",
       "    .dataframe thead th {\n",
       "        text-align: right;\n",
       "    }\n",
       "</style>\n",
       "<table border=\"1\" class=\"dataframe\">\n",
       "  <thead>\n",
       "    <tr style=\"text-align: right;\">\n",
       "      <th></th>\n",
       "      <th>movieId</th>\n",
       "      <th>title</th>\n",
       "      <th>genres</th>\n",
       "    </tr>\n",
       "  </thead>\n",
       "  <tbody>\n",
       "    <tr>\n",
       "      <th>2689</th>\n",
       "      <td>3604</td>\n",
       "      <td>Gypsy (1962)</td>\n",
       "      <td>Musical</td>\n",
       "    </tr>\n",
       "  </tbody>\n",
       "</table>\n",
       "</div>"
      ],
      "text/plain": [
       "      movieId         title   genres\n",
       "2689     3604  Gypsy (1962)  Musical"
      ]
     },
     "execution_count": 10,
     "metadata": {},
     "output_type": "execute_result"
    }
   ],
   "source": [
    "# Find Lowest and Highest rated movies:\n",
    "mean_rating = ratings_df.groupby('movieId')[['rating']].mean()\n",
    "# Lowest rated movies\n",
    "lowest_rated = mean_rating['rating'].idxmin()\n",
    "movies_df.loc[movies_df['movieId'] == lowest_rated]"
   ]
  },
  {
   "cell_type": "code",
   "execution_count": 11,
   "id": "a4216f32-0b2c-4d1f-96ce-ef287bb77c9c",
   "metadata": {},
   "outputs": [
    {
     "data": {
      "text/html": [
       "<div>\n",
       "<style scoped>\n",
       "    .dataframe tbody tr th:only-of-type {\n",
       "        vertical-align: middle;\n",
       "    }\n",
       "\n",
       "    .dataframe tbody tr th {\n",
       "        vertical-align: top;\n",
       "    }\n",
       "\n",
       "    .dataframe thead th {\n",
       "        text-align: right;\n",
       "    }\n",
       "</style>\n",
       "<table border=\"1\" class=\"dataframe\">\n",
       "  <thead>\n",
       "    <tr style=\"text-align: right;\">\n",
       "      <th></th>\n",
       "      <th>movieId</th>\n",
       "      <th>title</th>\n",
       "      <th>genres</th>\n",
       "    </tr>\n",
       "  </thead>\n",
       "  <tbody>\n",
       "    <tr>\n",
       "      <th>48</th>\n",
       "      <td>53</td>\n",
       "      <td>Lamerica (1994)</td>\n",
       "      <td>Adventure|Drama</td>\n",
       "    </tr>\n",
       "  </tbody>\n",
       "</table>\n",
       "</div>"
      ],
      "text/plain": [
       "    movieId            title           genres\n",
       "48       53  Lamerica (1994)  Adventure|Drama"
      ]
     },
     "execution_count": 11,
     "metadata": {},
     "output_type": "execute_result"
    }
   ],
   "source": [
    "# Highest rated movies\n",
    "highest_rated = mean_rating['rating'].idxmax()\n",
    "movies_df.loc[movies_df['movieId'] == highest_rated]"
   ]
  },
  {
   "cell_type": "code",
   "execution_count": 12,
   "id": "1a83052c-9c95-423a-b340-505db3778b6f",
   "metadata": {},
   "outputs": [
    {
     "data": {
      "text/html": [
       "<div>\n",
       "<style scoped>\n",
       "    .dataframe tbody tr th:only-of-type {\n",
       "        vertical-align: middle;\n",
       "    }\n",
       "\n",
       "    .dataframe tbody tr th {\n",
       "        vertical-align: top;\n",
       "    }\n",
       "\n",
       "    .dataframe thead th {\n",
       "        text-align: right;\n",
       "    }\n",
       "</style>\n",
       "<table border=\"1\" class=\"dataframe\">\n",
       "  <thead>\n",
       "    <tr style=\"text-align: right;\">\n",
       "      <th></th>\n",
       "      <th>userId</th>\n",
       "      <th>movieId</th>\n",
       "      <th>rating</th>\n",
       "      <th>timestamp</th>\n",
       "    </tr>\n",
       "  </thead>\n",
       "  <tbody>\n",
       "    <tr>\n",
       "      <th>13633</th>\n",
       "      <td>89</td>\n",
       "      <td>3604</td>\n",
       "      <td>0.5</td>\n",
       "      <td>1520408880</td>\n",
       "    </tr>\n",
       "  </tbody>\n",
       "</table>\n",
       "</div>"
      ],
      "text/plain": [
       "       userId  movieId  rating   timestamp\n",
       "13633      89     3604     0.5  1520408880"
      ]
     },
     "execution_count": 12,
     "metadata": {},
     "output_type": "execute_result"
    }
   ],
   "source": [
    "# show number of people who rated movies rated movie highest\n",
    "ratings_df[ratings_df['movieId']==highest_rated]\n",
    "# show number of people who rated movies rated movie lowest\n",
    "ratings_df[ratings_df['movieId']==lowest_rated]"
   ]
  },
  {
   "cell_type": "code",
   "execution_count": 13,
   "id": "94549195-6261-456c-a176-cf32d3e3e679",
   "metadata": {},
   "outputs": [],
   "source": [
    "## the above movies has very low dataset. We will use bayesian average\n",
    "movie_stats = ratings_df.groupby('movieId')[['rating']].agg(['count', 'mean'])\n",
    "movie_stats.columns = movie_stats.columns.droplevel()"
   ]
  },
  {
   "cell_type": "markdown",
   "id": "90d7a2c2-ec71-4d3d-b702-548bace58a3d",
   "metadata": {},
   "source": [
    "In the above steps, we calculated the count of ratings provided by each user present in the dataset, movies that recieved lowest and highest ratings from the users. Fianlly, we have also shown number of users rated the lowestest and highest rating movies."
   ]
  },
  {
   "cell_type": "markdown",
   "id": "ae1bf035-b0e5-4b89-8e04-3ba22ecaf940",
   "metadata": {},
   "source": [
    "#### Step 4: Creating user and movie matrix using csr_matrix available in scipy.sparse library"
   ]
  },
  {
   "cell_type": "code",
   "execution_count": 14,
   "id": "45b4c0f6-daf6-4db0-8fde-840f2ab65061",
   "metadata": {},
   "outputs": [],
   "source": [
    "# Importing Library to create user-item matrix using scipy csr matrix\n",
    "from scipy.sparse import csr_matrix"
   ]
  },
  {
   "cell_type": "code",
   "execution_count": 15,
   "id": "027cd38a-4e62-47c8-b37a-4addfb3be238",
   "metadata": {},
   "outputs": [],
   "source": [
    "## Function to create user item matrix\n",
    "def create_matrix(df):\n",
    "      \n",
    "    N = len(df['userId'].unique())\n",
    "    M = len(df['movieId'].unique())\n",
    "      \n",
    "    # Map Ids to indices\n",
    "    user_mapper = dict(zip(np.unique(df[\"userId\"]), list(range(N))))\n",
    "    movie_mapper = dict(zip(np.unique(df[\"movieId\"]), list(range(M))))\n",
    "      \n",
    "    # Map indices to IDs\n",
    "    user_inv_mapper = dict(zip(list(range(N)), np.unique(df[\"userId\"])))\n",
    "    movie_inv_mapper = dict(zip(list(range(M)), np.unique(df[\"movieId\"])))\n",
    "      \n",
    "    user_index = [user_mapper[i] for i in df['userId']]\n",
    "    movie_index = [movie_mapper[i] for i in df['movieId']]\n",
    "  \n",
    "    X = csr_matrix((df[\"rating\"], (movie_index, user_index)), shape=(M, N))\n",
    "      \n",
    "    return X, user_mapper, movie_mapper, user_inv_mapper, movie_inv_mapper"
   ]
  },
  {
   "cell_type": "code",
   "execution_count": 16,
   "id": "57067ea7-3034-4575-8ee4-a0f7c26c282e",
   "metadata": {},
   "outputs": [],
   "source": [
    "## Calling the create matrix function and assign to the variables\n",
    "X, user_mapper, movie_mapper, user_inv_mapper, movie_inv_mapper = create_matrix(ratings_df)"
   ]
  },
  {
   "cell_type": "markdown",
   "id": "987a76da-08b6-498d-be6d-664a1c2f8d1f",
   "metadata": {},
   "source": [
    "In this step, we created a function to build matrix between users and movies. Initially, the length of users and movies present in the dataset has been taken. Then identifiers have been assigned to user id and movie id after removing the duplicates present in the dataset. \n",
    "\n",
    "CSR Matrix has been created with the list of user id and movie ids present in the dataset. Upon creating the matrix, the following values are returned from the function.\n",
    "\n",
    "1. X: Matrix between movie ids and user ids.\n",
    "2. user_mapper: Here, unique id has been assigned to each user id and created dictionary of key value pairs.\n",
    "3. movie_mapper: Here, unique id has been assigned to each movie id and created dictionary of key value pairs.\n",
    "4. user_inv_mapper: Mapping indices to each user id\n",
    "5. movie_inv_mapper: Mapping indices to each movie id"
   ]
  },
  {
   "cell_type": "markdown",
   "id": "1c306d60-92d8-46a7-9c16-6fa8cd9feb08",
   "metadata": {},
   "source": [
    "#### Step 5: Function to find similar movies using KNN algorithm"
   ]
  },
  {
   "cell_type": "code",
   "execution_count": 29,
   "id": "8729ed6f-a9fb-45ae-a948-7868eafe9043",
   "metadata": {},
   "outputs": [],
   "source": [
    "## Importing the library to calculate the similar movies using KNN\n",
    "from sklearn.neighbors import NearestNeighbors"
   ]
  },
  {
   "cell_type": "code",
   "execution_count": 30,
   "id": "413f1205-336a-4e1b-972b-3de67ebedf4a",
   "metadata": {},
   "outputs": [],
   "source": [
    "## Function to find the similar movies using KNN \n",
    "def find_similar_movies(movie_id, X, k, metric='cosine', show_distance=False):\n",
    "      \n",
    "    neighbour_ids = []\n",
    "      \n",
    "    movie_ind = movie_mapper[movie_id]\n",
    "    movie_vec = X[movie_ind]\n",
    "    k+=1\n",
    "    kNN = NearestNeighbors(n_neighbors=k, algorithm=\"brute\", metric=metric)\n",
    "    kNN.fit(X)\n",
    "    movie_vec = movie_vec.reshape(1,-1)\n",
    "    neighbour = kNN.kneighbors(movie_vec, return_distance=show_distance)\n",
    "    for i in range(0,k):\n",
    "        n = neighbour.item(i)\n",
    "        neighbour_ids.append(movie_inv_mapper[n])\n",
    "    neighbour_ids.pop(0)\n",
    "    return neighbour_ids"
   ]
  },
  {
   "cell_type": "markdown",
   "id": "72e44f3d-b2a7-4326-8190-7afda1cf12f7",
   "metadata": {},
   "source": [
    "A function has been created to find similar movies based on the movie id provided as input to the user. Following are the parameters used as a input to the function.\n",
    "\n",
    "1. movie_id: Movie id provided by the user; This is the movie user has watched and he wants movies similar to this\n",
    "2. X: CSR Matrix created between user ids and movie ids\n",
    "3. k: Number of neighbors based on the movie id requested by the user\n",
    "4. metric: Cosine similarity measures the similarity between two vectors of an inner product space. It is measured by the cosine of the angle between two vectors and determines whether two vectors are pointing in roughly the same direction. It is often used to measure document similarity in text analysis.\n",
    "\n",
    "Upon calling the function, it calculates the neighbors based on the user input (k) values and returns all the adjacent movie ids."
   ]
  },
  {
   "cell_type": "markdown",
   "id": "f323cb0c-2677-4eb6-aed4-01cfbbe2f8bb",
   "metadata": {},
   "source": [
    "#### Step 6: Calculating movie watch list based on watched movie "
   ]
  },
  {
   "cell_type": "code",
   "execution_count": 31,
   "id": "01517e05-7b54-4b2a-b5c2-bfacd4ff24d7",
   "metadata": {},
   "outputs": [],
   "source": [
    "## Creating dictionary with movie id as key and title as value\n",
    "movie_titles = dict(zip(movies_df['movieId'], movies_df['title']))"
   ]
  },
  {
   "cell_type": "code",
   "execution_count": 32,
   "id": "dce692c3-4c32-45a5-a8b0-db3a91c41ab1",
   "metadata": {},
   "outputs": [
    {
     "name": "stdout",
     "output_type": "stream",
     "text": [
      "The minimum and maximum movie id 1 and 193609\n"
     ]
    }
   ],
   "source": [
    "## Get imput from user for movie id\n",
    "min_movie_id = min(movie_mapper.keys())\n",
    "max_movie_id = max(movie_mapper.keys())\n",
    "print(\"The minimum and maximum movie id {} and {}\".format(min_movie_id, max_movie_id))"
   ]
  },
  {
   "cell_type": "code",
   "execution_count": 45,
   "id": "3d1d6e36-71df-466e-a68e-72dde05264ee",
   "metadata": {},
   "outputs": [
    {
     "name": "stdout",
     "output_type": "stream",
     "text": [
      "\n",
      "Please enter the movie id between 1 and  193609: \n"
     ]
    },
    {
     "name": "stdin",
     "output_type": "stream",
     "text": [
      " 1\n"
     ]
    },
    {
     "name": "stdout",
     "output_type": "stream",
     "text": [
      "The movie id 1 is present in the mapper list\n",
      "\n",
      "\u001b[1mSince you watched the movie 'Toy Story (1995)', below are some other recommendations\u001b[0m\n",
      "Toy Story 2 (1999)\n",
      "Jurassic Park (1993)\n",
      "Independence Day (a.k.a. ID4) (1996)\n",
      "Star Wars: Episode IV - A New Hope (1977)\n",
      "Forrest Gump (1994)\n",
      "Lion King, The (1994)\n",
      "Star Wars: Episode VI - Return of the Jedi (1983)\n",
      "Mission: Impossible (1996)\n",
      "Groundhog Day (1993)\n",
      "Back to the Future (1985)\n",
      "\n",
      "Do you want to check for other movies (Y/N):\n"
     ]
    },
    {
     "name": "stdin",
     "output_type": "stream",
     "text": [
      " Y\n"
     ]
    },
    {
     "name": "stdout",
     "output_type": "stream",
     "text": [
      "\n",
      "Please enter the movie id between 1 and  193609: \n"
     ]
    },
    {
     "name": "stdin",
     "output_type": "stream",
     "text": [
      " 1000\n"
     ]
    },
    {
     "name": "stdout",
     "output_type": "stream",
     "text": [
      "The movie id 1000 is not present in the mapper list\n",
      "Please enter someother value\n",
      "\n",
      "Please enter the movie id between 1 and  193609: \n"
     ]
    },
    {
     "name": "stdin",
     "output_type": "stream",
     "text": [
      " 2\n"
     ]
    },
    {
     "name": "stdout",
     "output_type": "stream",
     "text": [
      "The movie id 2 is present in the mapper list\n",
      "\n",
      "\u001b[1mSince you watched the movie 'Jumanji (1995)', below are some other recommendations\u001b[0m\n",
      "Lion King, The (1994)\n",
      "Mrs. Doubtfire (1993)\n",
      "Mask, The (1994)\n",
      "Jurassic Park (1993)\n",
      "Home Alone (1990)\n",
      "Nightmare Before Christmas, The (1993)\n",
      "Aladdin (1992)\n",
      "Beauty and the Beast (1991)\n",
      "Ace Ventura: When Nature Calls (1995)\n",
      "Santa Clause, The (1994)\n",
      "\n",
      "Do you want to check for other movies (Y/N):\n"
     ]
    },
    {
     "name": "stdin",
     "output_type": "stream",
     "text": [
      " N\n"
     ]
    }
   ],
   "source": [
    "## Get the input movie id from the user\n",
    "while True:\n",
    "    print(\"\\nPlease enter the movie id between {} and  {}: \".format(min_movie_id, max_movie_id))\n",
    "    movie_id = int(input())\n",
    "    if int(movie_id) in movie_mapper.keys():\n",
    "        print(\"The movie id {} is present in the mapper list\".format(movie_id))\n",
    "        similar_ids = find_similar_movies(movie_id, X, k=10)\n",
    "        movie_title = movie_titles[movie_id]\n",
    "        print(f\"\\n\\033[1mSince you watched the movie \\'{movie_title}\\', below are some other recommendations\\033[0m\")\n",
    "        for i in similar_ids:\n",
    "            print(movie_titles[i])\n",
    "        print(\"\\nDo you want to check for other movies (Y/N):\")\n",
    "        user_yn = input()\n",
    "        if user_yn.upper() == 'Y':\n",
    "            continue\n",
    "        else:\n",
    "            break\n",
    "    else:\n",
    "        print(\"The movie id {} is not present in the mapper list\".format(movie_id))\n",
    "        print(\"Please enter someother value\")\n",
    "        "
   ]
  },
  {
   "cell_type": "markdown",
   "id": "a33c6092-47a5-4e82-9b74-692ac4f31e25",
   "metadata": {},
   "source": [
    "A custom function has been created as above to get input from user on movie id; The movie id has been passed to find_similar_movies function which returns the list of 10 movies similar to the movie watched by the user.\n",
    "\n",
    "If user wants to continue finding the list based on other movie, he just provide the input as \"Y\" and continue with this search. If he decides to end the search, he just provide the input as \"N\". \n",
    "\n",
    "In addition, if the movie id provided as input by the user is not present in the list, the function will ask the user to provide the correct id. "
   ]
  },
  {
   "cell_type": "markdown",
   "id": "0856c845-178a-4ed1-a9a4-29350e89ae8a",
   "metadata": {},
   "source": [
    "#### Reference\n",
    "https://www.geeksforgeeks.org/recommendation-system-in-python/"
   ]
  },
  {
   "cell_type": "code",
   "execution_count": null,
   "id": "c413d5b4-1f2b-430f-80e7-298ab8afef9d",
   "metadata": {},
   "outputs": [],
   "source": []
  }
 ],
 "metadata": {
  "kernelspec": {
   "display_name": "Python 3",
   "language": "python",
   "name": "python3"
  },
  "language_info": {
   "codemirror_mode": {
    "name": "ipython",
    "version": 3
   },
   "file_extension": ".py",
   "mimetype": "text/x-python",
   "name": "python",
   "nbconvert_exporter": "python",
   "pygments_lexer": "ipython3",
   "version": "3.8.8"
  }
 },
 "nbformat": 4,
 "nbformat_minor": 5
}
